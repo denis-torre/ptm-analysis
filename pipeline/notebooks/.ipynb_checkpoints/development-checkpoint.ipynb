{
 "cells": [
  {
   "cell_type": "code",
   "execution_count": 1,
   "metadata": {
    "collapsed": false
   },
   "outputs": [
    {
     "data": {
      "text/plain": [
       "R object with classes: ('list',) mapped to:\n",
       "<ListVector - Python:0x1099f3050 / R:0x7fd7611b3460>\n",
       "[SignatureTranslatedFunc..., BoolVector]\n",
       "  value: <class 'rpy2.robjects.functions.SignatureTranslatedFunction'>\n",
       "  R object with classes: ('function',) mapped to:\n",
       "<SignatureTranslatedFunction - Python:0x10d1dea70 / R:0x7fd764511468>\n",
       "  visible: <class 'rpy2.robjects.vectors.BoolVector'>\n",
       "  R object with classes: ('logical',) mapped to:\n",
       "<BoolVector - Python:0x10d1e3b48 / R:0x7fd7612e5f28>\n",
       "[       0]"
      ]
     },
     "execution_count": 1,
     "metadata": {},
     "output_type": "execute_result"
    }
   ],
   "source": [
    "# Prepare\n",
    "import pandas as pd\n",
    "import os\n",
    "os.chdir('/Users/denis/Documents/Projects/hiv-analysis/hiv-signature-analysis')\n",
    "%load_ext rpy2.ipython\n",
    "%R source('/Users/denis/Documents/Projects/scripts/Support.R')"
   ]
  },
  {
   "cell_type": "markdown",
   "metadata": {},
   "source": [
    "## Infiles"
   ]
  },
  {
   "cell_type": "code",
   "execution_count": 2,
   "metadata": {
    "collapsed": false
   },
   "outputs": [],
   "source": [
    "infile = 'f3-adjusted_expression_data.dir/podocyte_cell_line-vst_corrected.txt'"
   ]
  },
  {
   "cell_type": "markdown",
   "metadata": {},
   "source": [
    "## Computation"
   ]
  },
  {
   "cell_type": "code",
   "execution_count": 4,
   "metadata": {
    "collapsed": false
   },
   "outputs": [
    {
     "data": {
      "text/html": [
       "<div>\n",
       "<table border=\"1\" class=\"dataframe\">\n",
       "  <thead>\n",
       "    <tr style=\"text-align: right;\">\n",
       "      <th></th>\n",
       "      <th>h0.2</th>\n",
       "      <th>h0.3</th>\n",
       "      <th>h0.4</th>\n",
       "      <th>h12.3</th>\n",
       "      <th>h12.4</th>\n",
       "      <th>h24.3</th>\n",
       "      <th>h24.4</th>\n",
       "      <th>h48.2</th>\n",
       "      <th>h48.3</th>\n",
       "      <th>h48.4</th>\n",
       "      <th>h6.2</th>\n",
       "      <th>h6.3</th>\n",
       "      <th>h6.4</th>\n",
       "    </tr>\n",
       "    <tr>\n",
       "      <th>gene_symbol</th>\n",
       "      <th></th>\n",
       "      <th></th>\n",
       "      <th></th>\n",
       "      <th></th>\n",
       "      <th></th>\n",
       "      <th></th>\n",
       "      <th></th>\n",
       "      <th></th>\n",
       "      <th></th>\n",
       "      <th></th>\n",
       "      <th></th>\n",
       "      <th></th>\n",
       "      <th></th>\n",
       "    </tr>\n",
       "  </thead>\n",
       "  <tbody>\n",
       "    <tr>\n",
       "      <th>A1BG</th>\n",
       "      <td>6.147843</td>\n",
       "      <td>6.005296</td>\n",
       "      <td>5.897374</td>\n",
       "      <td>5.996267</td>\n",
       "      <td>5.885600</td>\n",
       "      <td>5.475812</td>\n",
       "      <td>5.659614</td>\n",
       "      <td>6.239405</td>\n",
       "      <td>6.282005</td>\n",
       "      <td>6.023686</td>\n",
       "      <td>5.659350</td>\n",
       "      <td>5.901442</td>\n",
       "      <td>6.054677</td>\n",
       "    </tr>\n",
       "    <tr>\n",
       "      <th>A1CF</th>\n",
       "      <td>6.264581</td>\n",
       "      <td>6.448386</td>\n",
       "      <td>6.214554</td>\n",
       "      <td>6.350930</td>\n",
       "      <td>6.250209</td>\n",
       "      <td>6.349119</td>\n",
       "      <td>6.052481</td>\n",
       "      <td>6.525110</td>\n",
       "      <td>6.108788</td>\n",
       "      <td>6.432085</td>\n",
       "      <td>6.223761</td>\n",
       "      <td>6.271659</td>\n",
       "      <td>6.591261</td>\n",
       "    </tr>\n",
       "    <tr>\n",
       "      <th>A2M</th>\n",
       "      <td>7.034336</td>\n",
       "      <td>7.088201</td>\n",
       "      <td>6.876766</td>\n",
       "      <td>6.670464</td>\n",
       "      <td>6.789030</td>\n",
       "      <td>6.725371</td>\n",
       "      <td>6.655692</td>\n",
       "      <td>6.657670</td>\n",
       "      <td>6.521471</td>\n",
       "      <td>6.587131</td>\n",
       "      <td>6.728799</td>\n",
       "      <td>6.869803</td>\n",
       "      <td>6.941809</td>\n",
       "    </tr>\n",
       "    <tr>\n",
       "      <th>A2M-AS1</th>\n",
       "      <td>5.626558</td>\n",
       "      <td>6.192881</td>\n",
       "      <td>6.163389</td>\n",
       "      <td>6.506272</td>\n",
       "      <td>5.819773</td>\n",
       "      <td>6.135803</td>\n",
       "      <td>6.210562</td>\n",
       "      <td>6.240294</td>\n",
       "      <td>5.761161</td>\n",
       "      <td>6.384660</td>\n",
       "      <td>5.923127</td>\n",
       "      <td>5.457303</td>\n",
       "      <td>5.588230</td>\n",
       "    </tr>\n",
       "    <tr>\n",
       "      <th>A2ML1</th>\n",
       "      <td>6.892532</td>\n",
       "      <td>6.788747</td>\n",
       "      <td>7.028152</td>\n",
       "      <td>6.835495</td>\n",
       "      <td>6.752410</td>\n",
       "      <td>7.244471</td>\n",
       "      <td>7.043618</td>\n",
       "      <td>6.995471</td>\n",
       "      <td>6.719591</td>\n",
       "      <td>6.984454</td>\n",
       "      <td>6.917995</td>\n",
       "      <td>7.151627</td>\n",
       "      <td>6.950036</td>\n",
       "    </tr>\n",
       "  </tbody>\n",
       "</table>\n",
       "</div>"
      ],
      "text/plain": [
       "                 h0.2      h0.3      h0.4     h12.3     h12.4     h24.3  \\\n",
       "gene_symbol                                                               \n",
       "A1BG         6.147843  6.005296  5.897374  5.996267  5.885600  5.475812   \n",
       "A1CF         6.264581  6.448386  6.214554  6.350930  6.250209  6.349119   \n",
       "A2M          7.034336  7.088201  6.876766  6.670464  6.789030  6.725371   \n",
       "A2M-AS1      5.626558  6.192881  6.163389  6.506272  5.819773  6.135803   \n",
       "A2ML1        6.892532  6.788747  7.028152  6.835495  6.752410  7.244471   \n",
       "\n",
       "                h24.4     h48.2     h48.3     h48.4      h6.2      h6.3  \\\n",
       "gene_symbol                                                               \n",
       "A1BG         5.659614  6.239405  6.282005  6.023686  5.659350  5.901442   \n",
       "A1CF         6.052481  6.525110  6.108788  6.432085  6.223761  6.271659   \n",
       "A2M          6.655692  6.657670  6.521471  6.587131  6.728799  6.869803   \n",
       "A2M-AS1      6.210562  6.240294  5.761161  6.384660  5.923127  5.457303   \n",
       "A2ML1        7.043618  6.995471  6.719591  6.984454  6.917995  7.151627   \n",
       "\n",
       "                 h6.4  \n",
       "gene_symbol            \n",
       "A1BG         6.054677  \n",
       "A1CF         6.591261  \n",
       "A2M          6.941809  \n",
       "A2M-AS1      5.588230  \n",
       "A2ML1        6.950036  "
      ]
     },
     "execution_count": 4,
     "metadata": {},
     "output_type": "execute_result"
    }
   ],
   "source": [
    "# Read infile\n",
    "expressionDataframe = pd.read_table(infile).set_index('gene_symbol')\n",
    "\n",
    "# Split column names\n",
    "# controlColumnBool = [x.split('.')[0] == 'h0' for x in expressionDataframe.columns]\n",
    "expressionDataframe.head()"
   ]
  },
  {
   "cell_type": "code",
   "execution_count": 5,
   "metadata": {
    "collapsed": false
   },
   "outputs": [],
   "source": [
    "%R -i expressionDataframe"
   ]
  },
  {
   "cell_type": "code",
   "execution_count": 6,
   "metadata": {
    "collapsed": true
   },
   "outputs": [],
   "source": [
    "%%R\n",
    "# Read data\n",
    "source('pipeline/scripts/support/nipals.R')\n",
    "source('pipeline/scripts/support/chdir.R')"
   ]
  },
  {
   "cell_type": "code",
   "execution_count": 28,
   "metadata": {
    "collapsed": false
   },
   "outputs": [],
   "source": [
    "%%R\n",
    "# Get timepoints\n",
    "timepoints <- unique(sapply(colnames(expressionDataframe), function(x) strsplit(x, '.', fixed=TRUE)[[1]][1]))\n",
    "    \n",
    "# Get column names\n",
    "timepointColnames <- sapply(timepoints, function(x) colnames(expressionDataframe)[grepl(x, colnames(expressionDataframe))])\n",
    "    \n",
    "# Split data\n",
    "timepointData <- sapply(timepointColnames, function(x) {\n",
    "    resultDataframe <- round(expressionDataframe[,x], digits=2);\n",
    "    geneVar <- apply(resultDataframe, 1, var);\n",
    "    resultDataframe <- resultDataframe[names(geneVar)[geneVar > 0],];\n",
    "    return(resultDataframe);\n",
    "}, simplify=FALSE)\n",
    "    \n",
    "# Get common genes\n",
    "commonGenes <- Reduce(intersect, sapply(timepointData, function(x) rownames(x)))"
   ]
  },
  {
   "cell_type": "code",
   "execution_count": 33,
   "metadata": {
    "collapsed": false
   },
   "outputs": [],
   "source": [
    "%%R\n"
   ]
  },
  {
   "cell_type": "code",
   "execution_count": 36,
   "metadata": {
    "collapsed": false
   },
   "outputs": [
    {
     "name": "stdout",
     "output_type": "stream",
     "text": [
      "\n",
      "Error in chdir(controlExpressionDataframe, treatedExpressionDataframe,  : \n",
      "  1166,2870,3276,6036,6905,12768,13689,13970,15824 row(s) in control expression data are constant. Consider Removing the row(s).\n"
     ]
    },
    {
     "name": "stderr",
     "output_type": "stream",
     "text": [
      "/Users/denis/my-venv/lib/python2.7/site-packages/rpy2/rinterface/__init__.py:185: RRuntimeWarning: Error in chdir(controlExpressionDataframe, treatedExpressionDataframe,  : \n",
      "  1166,2870,3276,6036,6905,12768,13689,13970,15824 row(s) in control expression data are constant. Consider Removing the row(s).\n",
      "\n",
      "  warnings.warn(x, RRuntimeWarning)\n"
     ]
    }
   ],
   "source": [
    "%%R\n",
    "# Get genes\n",
    "genes <- rownames(controlExpressionDataframe)\n",
    "\n",
    "# Run CD\n",
    "unitV <- chdir(controlExpressionDataframe, treatedExpressionDataframe, genes)\n"
   ]
  },
  {
   "cell_type": "code",
   "execution_count": 44,
   "metadata": {
    "collapsed": false
   },
   "outputs": [
    {
     "data": {
      "text/plain": [
       "        gene_symbol        CD\n",
       "AMZ2P1       AMZ2P1 0.4365423\n",
       "ANK3           ANK3 0.3100459\n",
       "AKR1C1       AKR1C1 0.2427186\n",
       "ANKRD36     ANKRD36 0.2183516\n",
       "ANAPC5       ANAPC5 0.1830606\n",
       "ADAM17       ADAM17 0.1784386\n"
      ]
     },
     "metadata": {},
     "output_type": "display_data"
    }
   ],
   "source": [
    "%%R\n",
    "# Add column name\n",
    "colnames(unitV) <- 'CD'\n",
    "head(unitV)\n",
    "\n",
    "# Create dataframe\n",
    "cdDataframe <- data.frame(gene_symbol=rownames(unitV), CD=unitV)\n",
    "head(cdDataframe)"
   ]
  },
  {
   "cell_type": "code",
   "execution_count": 10,
   "metadata": {
    "collapsed": false
   },
   "outputs": [
    {
     "data": {
      "text/plain": [
       "       V2      V3      V4      V5      V6      V7      V8      V9     V10\n",
       "2 11.0434 11.2627 10.8087 11.4478 11.2997 11.4834 11.4478 11.2360 11.9725\n",
       "3 10.2767  9.8619  9.8398  9.7350 10.1569  9.4271  9.6719 10.0419  9.8549\n",
       "4 12.5042 12.4814 12.5263 12.3535 12.3394 12.6910 12.5944 12.6575 12.3891\n",
       "5  6.4963  6.4695  5.8230  6.3342  5.9934  6.4474  6.4963  6.5621  6.5360\n",
       "6  8.8047  8.7521  9.0120  9.0021  9.0796  8.7975  8.4469  8.9282  9.0260\n",
       "7  7.2121  7.0669  7.0076  7.2567  7.0669  7.3093  7.1519  7.0708  7.6538\n",
       "      V11     V12     V13     V14     V15     V16     V17     V18     V19\n",
       "2 12.0193 11.9567 11.8613 12.1251 11.4834 11.9567 12.1920 11.0647 11.6005\n",
       "3  9.8212  9.8693 10.0044  9.7735  9.6176  9.7350  9.7818  9.9906 10.2463\n",
       "4 12.6575 12.2226 11.7157 12.1596 12.6575 12.5263 12.4814 12.3637 12.2967\n",
       "5  6.5187  6.4344  6.9072  7.0474  6.7244  7.0199  6.6623  6.2786  6.4746\n",
       "6  8.9260  9.1923  9.1177  9.6444  8.8896  8.9136  9.0871  9.1369  8.9887\n",
       "7  7.6538  7.5198  7.0957  7.3906  6.9566  7.4197  7.6748  7.2029  7.0568\n",
       "      V20     V21\n",
       "2 12.3178 11.4478\n",
       "3  9.3864  9.3658\n",
       "4 12.2116 12.6575\n",
       "5  6.6585  6.7799\n",
       "6  9.0871  8.5689\n",
       "7  7.7872  7.0790\n"
      ]
     },
     "metadata": {},
     "output_type": "display_data"
    }
   ],
   "source": [
    "%%R\n",
    "head(ctrlMat)"
   ]
  },
  {
   "cell_type": "code",
   "execution_count": 11,
   "metadata": {
    "collapsed": false
   },
   "outputs": [
    {
     "data": {
      "text/plain": [
       "[1] \"PSME1\"  \"CISD1\"  \"VDAC1\"  \"SORBS3\" \"SPDEF\"  \"ATF1\"  \n"
      ]
     },
     "metadata": {},
     "output_type": "display_data"
    }
   ],
   "source": [
    "%%R\n",
    "head(genes)"
   ]
  },
  {
   "cell_type": "code",
   "execution_count": 8,
   "metadata": {
    "collapsed": false
   },
   "outputs": [
    {
     "data": {
      "text/plain": [
       "[1] -0.08862169\n"
      ]
     },
     "metadata": {},
     "output_type": "display_data"
    }
   ],
   "source": [
    "%%R\n",
    "min(unitV)"
   ]
  },
  {
   "cell_type": "code",
   "execution_count": 33,
   "metadata": {
    "collapsed": false
   },
   "outputs": [],
   "source": [
    "# Read data\n",
    "vstDataframe = pd.read_table(infile).set_index('gene_symbol')\n",
    "\n",
    "# Create annotation dataframe\n",
    "annotationDataframe = pd.DataFrame([[x, x.split('.')[0], x.split('.')[1]] for x in vstDataframe.columns], columns=['sample_id','timepoint','batch'])"
   ]
  },
  {
   "cell_type": "code",
   "execution_count": 35,
   "metadata": {
    "collapsed": false
   },
   "outputs": [
    {
     "data": {
      "text/plain": [
       "  sample_id timepoint batch\n",
       "0      h0.2        h0     2\n",
       "1      h0.3        h0     3\n",
       "2      h0.4        h0     4\n",
       "3     h12.3       h12     3\n",
       "4     h12.4       h12     4\n",
       "5     h24.3       h24     3\n"
      ]
     },
     "metadata": {},
     "output_type": "display_data"
    }
   ],
   "source": [
    "%%R -i vstDataframe,annotationDataframe\n",
    "head(annotationDataframe)"
   ]
  },
  {
   "cell_type": "code",
   "execution_count": 41,
   "metadata": {
    "collapsed": false
   },
   "outputs": [
    {
     "data": {
      "text/plain": [
       "Found 3 batches\n",
       "Adjusting for 4 covariate(s) or covariate level(s)\n",
       "Standardizing Data across genes\n",
       "Fitting L/S model and finding priors\n",
       "Finding parametric adjustments\n",
       "Adjusting the Data\n"
      ]
     },
     "metadata": {},
     "output_type": "display_data"
    }
   ],
   "source": [
    "%%R\n"
   ]
  },
  {
   "cell_type": "code",
   "execution_count": 42,
   "metadata": {
    "collapsed": false
   },
   "outputs": [
    {
     "data": {
      "text/plain": [
       "            h0.2     h0.3     h0.4    h12.3    h12.4    h24.3    h24.4    h48.2\n",
       "A1BG    6.147843 6.005296 5.897374 5.996267 5.885600 5.475812 5.659614 6.239405\n",
       "A1CF    6.264581 6.448386 6.214554 6.350930 6.250209 6.349119 6.052481 6.525110\n",
       "A2M     7.034336 7.088201 6.876766 6.670464 6.789030 6.725371 6.655692 6.657670\n",
       "A2M-AS1 5.626558 6.192881 6.163389 6.506272 5.819773 6.135803 6.210562 6.240294\n",
       "A2ML1   6.892532 6.788747 7.028152 6.835495 6.752410 7.244471 7.043618 6.995471\n",
       "A4GALT  9.353618 9.445485 9.791531 9.692090 9.751764 9.479550 9.564385 9.988112\n",
       "            h48.3    h48.4     h6.2     h6.3     h6.4\n",
       "A1BG     6.282005 6.023686 5.659350 5.901442 6.054677\n",
       "A1CF     6.108788 6.432085 6.223761 6.271659 6.591261\n",
       "A2M      6.521471 6.587131 6.728799 6.869803 6.941809\n",
       "A2M-AS1  5.761161 6.384660 5.923127 5.457303 5.588230\n",
       "A2ML1    6.719591 6.984454 6.917995 7.151627 6.950036\n",
       "A4GALT  10.082433 9.659197 9.870507 9.757342 9.684591\n"
      ]
     },
     "metadata": {},
     "output_type": "display_data"
    }
   ],
   "source": [
    "%%R\n",
    "head(vstDataframeCorrected)"
   ]
  },
  {
   "cell_type": "code",
   "execution_count": 11,
   "metadata": {
    "collapsed": false
   },
   "outputs": [
    {
     "data": {
      "text/plain": [
       "Found 5 batches\n",
       "Adjusting for 0 covariate(s) or covariate level(s)\n",
       "Standardizing Data across genes\n",
       "Fitting L/S model and finding priors\n",
       "Finding parametric adjustments\n",
       "Adjusting the Data\n"
      ]
     },
     "metadata": {},
     "output_type": "display_data"
    }
   ],
   "source": [
    "%%R\n",
    "# Load libraries\n",
    "library(sva)\n",
    "library(bladderbatch)\n",
    "\n",
    "# Load data\n",
    "data(bladderdata)\n",
    "pheno = pData(bladderEset)\n",
    "edata = exprs(bladderEset)\n",
    "\n",
    "# Create batch\n",
    "batch = pheno$batch\n",
    "modcombat = model.matrix(~1, data=pheno)\n",
    "\n",
    "# Run ComBat\n",
    "combat_edata = ComBat(dat=edata, batch=batch, mod=modcombat, par.prior=TRUE, prior.plots=FALSE)"
   ]
  },
  {
   "cell_type": "code",
   "execution_count": 27,
   "metadata": {
    "collapsed": false
   },
   "outputs": [
    {
     "data": {
      "text/plain": [
       "             sample outcome batch cancer\n",
       "GSM71019.CEL      1  Normal     3 Normal\n",
       "GSM71020.CEL      2  Normal     2 Normal\n",
       "GSM71021.CEL      3  Normal     2 Normal\n",
       "GSM71022.CEL      4  Normal     3 Normal\n",
       "GSM71023.CEL      5  Normal     3 Normal\n",
       "GSM71024.CEL      6  Normal     3 Normal\n"
      ]
     },
     "metadata": {},
     "output_type": "display_data"
    }
   ],
   "source": [
    "%%R\n",
    "head(pheno)"
   ]
  },
  {
   "cell_type": "code",
   "execution_count": 17,
   "metadata": {
    "collapsed": false
   },
   "outputs": [
    {
     "data": {
      "text/plain": [
       "            h0.2     h0.3     h0.4    h12.3    h12.4    h24.3    h24.4\n",
       "A1BG    5.503935 7.076264 5.241655 7.060819 5.235642 6.551762 5.018838\n",
       "A1CF    5.980715 6.498909 6.332309 6.396090 6.368596 6.399975 6.169393\n",
       "A2M     6.649431 7.374486 6.821825 6.959679 6.743027 7.012625 6.605288\n",
       "A2M-AS1 6.094726 5.404475 6.604511 5.722483 6.270075 5.333341 6.654487\n",
       "A2ML1   6.990537 6.655460 7.086898 6.719354 6.814397 7.134748 7.106763\n",
       "A4GALT  9.469511 9.438285 9.731087 9.682252 9.662753 9.470533 9.476727\n",
       "            h48.2     h48.3    h48.4      h6.2     h6.3     h6.4\n",
       "A1BG     5.569804  7.344000 5.366197  4.886763 6.966740 5.421723\n",
       "A1CF     6.307608  6.135498 6.552144  5.912574 6.309226 6.713958\n",
       "A2M      6.283479  6.811028 6.537748  6.290440 7.157131 6.898083\n",
       "A2M-AS1  6.872761  4.941792 6.825091  6.606226 4.645411 6.034259\n",
       "A2ML1    7.123133  6.577777 7.044083  6.991728 7.048220 7.012193\n",
       "A4GALT  10.190322 10.059985 9.538015 10.076268 9.746739 9.581477\n"
      ]
     },
     "metadata": {},
     "output_type": "display_data"
    }
   ],
   "source": [
    "%%R -i vstDataframe\n",
    "head(vstDataframe)"
   ]
  },
  {
   "cell_type": "code",
   "execution_count": 23,
   "metadata": {
    "collapsed": false
   },
   "outputs": [
    {
     "data": {
      "text/plain": [
       " h0.2  h0.3  h0.4 h12.3 h12.4 h24.3 h24.4 h48.2 h48.3 h48.4  h6.2  h6.3  h6.4 \n",
       "    2     3     4     3     4     3     4     2     3     4     2     3     4 \n"
      ]
     },
     "metadata": {},
     "output_type": "display_data"
    }
   ],
   "source": [
    "%%R\n",
    "# Get batch vector\n",
    "batch <- sapply(colnames(vstDataframe), function(x) as.numeric(strsplit(x, '.', fixed=TRUE)[[1]][2]))\n",
    "    \n",
    "# Get timepoint vector\n",
    "timepoint <- sapply(colnames(vstDataframe), function(x) strsplit(x, '.', fixed=TRUE)[[1]][1])\n",
    "batch"
   ]
  },
  {
   "cell_type": "code",
   "execution_count": 24,
   "metadata": {
    "collapsed": false
   },
   "outputs": [
    {
     "data": {
      "text/plain": [
       " h0.2  h0.3  h0.4 h12.3 h12.4 h24.3 h24.4 h48.2 h48.3 h48.4  h6.2  h6.3  h6.4 \n",
       " \"h0\"  \"h0\"  \"h0\" \"h12\" \"h12\" \"h24\" \"h24\" \"h48\" \"h48\" \"h48\"  \"h6\"  \"h6\"  \"h6\" \n"
      ]
     },
     "metadata": {},
     "output_type": "display_data"
    }
   ],
   "source": [
    "%%R\n",
    "model.matrix(timepoint)"
   ]
  },
  {
   "cell_type": "code",
   "execution_count": 20,
   "metadata": {
    "collapsed": false
   },
   "outputs": [
    {
     "data": {
      "text/plain": [
       "Found 3 batches\n",
       "Adjusting for 0 covariate(s) or covariate level(s)\n",
       "Standardizing Data across genes\n",
       "Fitting L/S model and finding priors\n",
       "Finding parametric adjustments\n",
       "Adjusting the Data\n"
      ]
     },
     "metadata": {},
     "output_type": "display_data"
    }
   ],
   "source": [
    "%%R\n",
    "vstDataframeCorrected <- ComBat(dat=vstDataframe, batch=batch, par.prior=TRUE, prior.plots=FALSE)"
   ]
  },
  {
   "cell_type": "code",
   "execution_count": 14,
   "metadata": {
    "collapsed": false
   },
   "outputs": [
    {
     "data": {
      "text/plain": [
       "          GSM71019.CEL GSM71020.CEL GSM71021.CEL GSM71022.CEL GSM71023.CEL\n",
       "1007_s_at    10.115170     8.628044     8.779235     9.248569    10.256841\n",
       "1053_at       5.345168     5.063598     5.113116     5.179410     5.181383\n",
       "117_at        6.348024     6.663625     6.465892     6.116422     5.980457\n",
       "121_at        8.901739     9.439977     9.540738     9.254368     8.798086\n",
       "1255_g_at     3.967672     4.466027     4.144885     4.189338     4.078509\n"
      ]
     },
     "metadata": {},
     "output_type": "display_data"
    }
   ],
   "source": [
    "%%R\n",
    "edata[1:5,1:5]"
   ]
  },
  {
   "cell_type": "code",
   "execution_count": 15,
   "metadata": {
    "collapsed": false
   },
   "outputs": [
    {
     "data": {
      "text/plain": [
       " [1] 3 2 2 3 3 3 2 2 5 2 5 2 5 2 5 5 2 1 5 1 2 1 2 5 2 2 5 1 1 2 1 1 1 5 1 2 2 2\n",
       "[39] 2 1 5 5 5 2 5 1 5 5 4 4 5 5 5 5 4 4 4\n"
      ]
     },
     "metadata": {},
     "output_type": "display_data"
    }
   ],
   "source": [
    "%%R\n",
    "batch"
   ]
  },
  {
   "cell_type": "code",
   "execution_count": 16,
   "metadata": {
    "collapsed": false
   },
   "outputs": [
    {
     "data": {
      "text/plain": [
       "   (Intercept)\n",
       "1            1\n",
       "2            1\n",
       "3            1\n",
       "4            1\n",
       "5            1\n",
       "6            1\n",
       "7            1\n",
       "8            1\n",
       "9            1\n",
       "10           1\n",
       "11           1\n",
       "12           1\n",
       "13           1\n",
       "14           1\n",
       "15           1\n",
       "16           1\n",
       "17           1\n",
       "18           1\n",
       "19           1\n",
       "20           1\n",
       "21           1\n",
       "22           1\n",
       "23           1\n",
       "24           1\n",
       "25           1\n",
       "26           1\n",
       "27           1\n",
       "28           1\n",
       "29           1\n",
       "30           1\n",
       "31           1\n",
       "32           1\n",
       "33           1\n",
       "34           1\n",
       "35           1\n",
       "36           1\n",
       "37           1\n",
       "38           1\n",
       "39           1\n",
       "40           1\n",
       "41           1\n",
       "42           1\n",
       "43           1\n",
       "44           1\n",
       "45           1\n",
       "46           1\n",
       "47           1\n",
       "48           1\n",
       "49           1\n",
       "50           1\n",
       "51           1\n",
       "52           1\n",
       "53           1\n",
       "54           1\n",
       "55           1\n",
       "56           1\n",
       "57           1\n",
       "attr(,\"assign\")\n",
       "[1] 0\n"
      ]
     },
     "metadata": {},
     "output_type": "display_data"
    }
   ],
   "source": [
    "%%R\n",
    "modcombat"
   ]
  },
  {
   "cell_type": "code",
   "execution_count": null,
   "metadata": {
    "collapsed": true
   },
   "outputs": [],
   "source": []
  }
 ],
 "metadata": {
  "kernelspec": {
   "display_name": "Python 2",
   "language": "python",
   "name": "python2"
  },
  "language_info": {
   "codemirror_mode": {
    "name": "ipython",
    "version": 2
   },
   "file_extension": ".py",
   "mimetype": "text/x-python",
   "name": "python",
   "nbconvert_exporter": "python",
   "pygments_lexer": "ipython2",
   "version": "2.7.10"
  }
 },
 "nbformat": 4,
 "nbformat_minor": 1
}
